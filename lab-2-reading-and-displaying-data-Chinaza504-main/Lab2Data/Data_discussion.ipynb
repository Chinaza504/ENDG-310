{
 "cells": [
  {
   "cell_type": "markdown",
   "metadata": {},
   "source": [
    "What are these data files:\n",
    "https://www.ciffc.ca/sites/default/files/2023-02/Canada_Report_2022_Final.pdf === 2022 wildfire data link\n",
    "\n",
    "https://cwfis.cfs.nrcan.gc.ca/report === 2023 wildfire data link\n",
    "\n",
    "How do the users access the data files here?"
   ]
  }
 ],
 "metadata": {
  "language_info": {
   "name": "python"
  },
  "orig_nbformat": 4
 },
 "nbformat": 4,
 "nbformat_minor": 2
}
