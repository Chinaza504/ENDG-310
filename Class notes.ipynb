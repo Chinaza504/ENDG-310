{
 "cells": [
  {
   "cell_type": "markdown",
   "metadata": {},
   "source": [
    "Lecture 2-Python Review\n",
    "\n",
    "    Python- programming language, doesn't require a compiler, directly interpretes source code into machune instructions. \n",
    "    Python Basics:\n",
    "    -Constants:values remain the same e.g writing out an integer value\n",
    "    -Variables: stores value that can be changed\n",
    "    -Assign a value using the = sign\n",
    "    Order of operations with numeric values and logic statements\n",
    "    -Conditional statements: helping with decision making- if...then...\n",
    "    \n",
    "    Note: using try/except:\n",
    "        use when dealing with dangerous code. If try condition works, except is skipped, if try fails, jump to the except.\n",
    "    \n",
    "    Loops:\n",
    "        While:always remember to create an escaape condition, to prevent an indefinite loop\n",
    "        For: helps with iteration\n",
    "    \n",
    "    Opening files with Python:\n",
    "        open(): opens the file as read only.\n",
    "        for 'line' in - can be used to refer to lines in a file. This allows us to search through a file, and gather some info about that file.\n",
    "    \n",
    "    Python Collections: \n",
    "        Lists: can be changed, sequential\n",
    "        Tuples: immutable, sequential. Moore efficient in memory ise and performnce than lists.\n",
    "        string: immutable, sequential\n",
    "        set: unordered collection of unique values (no repeats)\n",
    "        Dictionary: non sequential, mutable. A 'bag' of values, each with its own label (key).\n",
    "    \n",
    "    Loading Mdules in Python:\n",
    "        import 'module name'-can also assign an alias to help with referencing ease."
   ]
  },
  {
   "cell_type": "markdown",
   "metadata": {},
   "source": [
    "Lecture 3- Numpy and Pandas\n",
    "\n",
    "Working with files\n",
    "open()-function for opeing files. returns a variable used to perform operations on the file ('file handle')\n",
    "syntax: fhand = open(filename, mode) \n",
    "note that mode is optional\n",
    "    -'r' if we want to read the file\n",
    "    - 'w' if we want to write in the file\n",
    "\n",
    "NumPy: Numerical Python- works with data files and arrays."
   ]
  },
  {
   "cell_type": "markdown",
   "metadata": {},
   "source": [
    "define your file as a variable, to help you use it in the program.  \n",
    "data.head(num)-shows first num amount of data specified\n",
    "use plot.'type of graph'() to plot a graph. - how do we add the data?\n",
    "bar charts- help to distinguish between categories, and shows precise data/values associated with the category.\n",
    "linear chart helps to show the trend between different categories, using their data values."
   ]
  },
  {
   "cell_type": "markdown",
   "metadata": {},
   "source": [
    "19th Septemnber, 2023\n",
    "In Python, values are abjects which are assigned to the certain values, as variables. These objects have their value and data type as part of their 'description'.\n",
    "\n",
    "numpy wants to use the same data type across one array. It converts all data put into one data type. Reason for issue with files. \n",
    "Replicatin different data  on a method using data frames and dictionaries.\n",
    "\n",
    "Using chat GPT as a resource for coding,\n"
   ]
  },
  {
   "cell_type": "markdown",
   "metadata": {},
   "source": [
    "Functions with default values: Add an arguement, and make it equal to a default value. This way, it gives the user the option to add or omit an arguement.\n",
    "\n",
    "Void functions: don't return anything (non-fruitful)\n",
    "fruitful function: returns a value. In python, there is the option of multiple returns\n",
    "Using docstrings to document your functions.\n",
    "\n",
    "APIs: libraries & modules\n"
   ]
  },
  {
   "cell_type": "markdown",
   "metadata": {},
   "source": [
    "dataFrame['year].iloc[15:20]-gives you the data within the row numbers specified (row 15-19)\n",
    "dataFrame['year].loc[1960:1970] - gives you the data within the 'year' title you specified (from year 1960 to year 1970)\n",
    "\n",
    "Using NaN for missing values.\n",
    "\n",
    "when creating a function, using *args and **kwargs helps to make the function accepts a variety of arguements (makes it flexible, to an extent)\n",
    "return np.nan- returns nan if there is an error, prevents it from giving an error message (use it with the try:, except:)\n",
    "create a docstring: can give sime information about what the function does."
   ]
  }
 ],
 "metadata": {
  "language_info": {
   "name": "python"
  },
  "orig_nbformat": 4
 },
 "nbformat": 4,
 "nbformat_minor": 2
}
